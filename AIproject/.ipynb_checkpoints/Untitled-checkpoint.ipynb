{
 "cells": [
  {
   "cell_type": "code",
   "execution_count": 1,
   "metadata": {},
   "outputs": [
    {
     "name": "stderr",
     "output_type": "stream",
     "text": [
      "/Users/yuxin/anaconda3/lib/python3.7/site-packages/sklearn/ensemble/weight_boosting.py:29: DeprecationWarning: numpy.core.umath_tests is an internal NumPy module and should not be imported. It will be removed in a future NumPy release.\n",
      "  from numpy.core.umath_tests import inner1d\n"
     ]
    }
   ],
   "source": [
    "# Random Forest Regression without standardization\n",
    "# 1. Import libraries and modules\n",
    "import numpy as np\n",
    "import pandas as pd\n",
    "import sys\n",
    " \n",
    "import pickle\n",
    "from sklearn.model_selection import train_test_split\n",
    "from sklearn import preprocessing\n",
    "from sklearn.ensemble import RandomForestRegressor\n",
    "from sklearn.pipeline import make_pipeline\n",
    "from sklearn.model_selection import GridSearchCV\n",
    "from sklearn.metrics import mean_squared_error, r2_score\n",
    "from sklearn.externals import joblib \n",
    "\n",
    "data = pd.read_csv(\"result.csv\")\n",
    "data.head()\n",
    "\n",
    "\n",
    "y = data[['arousal', 'valence']]\n",
    "X = data.drop(['arousal', 'valence'], axis=1)\n",
    "\n",
    "X_train, X_test, y_train, y_test = train_test_split(X, y, test_size=0.1, random_state=4)\n",
    "\n",
    "# 2. Declare data preprocessing steps\n",
    "max_depth = 30\n",
    "pipeline = make_pipeline(RandomForestRegressor(n_estimators=50,max_depth=max_depth, random_state=4))\n",
    "# rf = RandomForestRegressor(n_estimators=10, max_depth=max_depth, random_state=2)\n",
    "\n",
    "# 3. Declare hyperparameters to tune\n",
    "hyperparameters = { 'randomforestregressor__max_features' : ['auto', 'sqrt', 'log2'],\n",
    "                  'randomforestregressor__max_depth': [None, 5, 3, 1]}\n",
    "\n",
    "# 4. Tune model using cross-validation pipeline\n",
    "rf = GridSearchCV(pipeline, hyperparameters, cv=5)\n",
    "\n",
    "rf.fit(X_train, y_train)\n",
    "\n",
    "# 5. check the model performance\n",
    "pred = rf.predict(X_test)\n",
    "filename = 'model.sav'\n",
    "pickle.dump(rf, open(filename, 'wb'))\n",
    "# print(pred)\n",
    "# print(r2_score(y_test, pred))\n",
    "# print(mean_squared_error(y_test, pred))\n",
    "\n",
    "# 6. test one\n",
    "# d = {'anger': [0], 'contempt': [0], 'disgust': [0.1], 'fear': [1], \n",
    "#      'happiness': [1], 'neutral': [0], 'sadness': [0], 'suprise': [0]}\n",
    "# df2 = pd.DataFrame(data=d)\n",
    "# pred = clf.predict(df2)\n",
    "# print(pred)"
   ]
  },
  {
   "cell_type": "code",
   "execution_count": 10,
   "metadata": {},
   "outputs": [
    {
     "name": "stdout",
     "output_type": "stream",
     "text": [
      "[[0.2694816  0.55995202]]\n"
     ]
    }
   ],
   "source": [
    "import numpy as np\n",
    "import pandas as pd\n",
    "import sys\n",
    " \n",
    "import pickle\n",
    "\n",
    "filename = 'model.sav'\n",
    "rf = pickle.load(open(filename, 'rb'))\n",
    "\n",
    "def calculateVA(anger,contempt,disgust,fear,happiness,neutral,sadness,surprise):\n",
    "    d = {'anger': [anger],'contempt': [contempt],'disgust': [disgust],'fear': [fear],\n",
    "         'happiness': [happiness], 'neutral': [neutral], 'sadness': [sadness], 'surprise': [surprise]}\n",
    "    df2 = pd.DataFrame(data=d)\n",
    "    pred = rf.predict(df2)\n",
    "    return pred\n",
    "\n",
    "calculateVA(float(sys.argv[1]),float(sys.argv[2]),float(sys.argv[3]),float(sys.argv[4]),float(sys.argv[5]),float(sys.argv[6]),float(sys.argv[7]),float(sys.argv[8]))"
   ]
  },
  {
   "cell_type": "code",
   "execution_count": null,
   "metadata": {},
   "outputs": [],
   "source": []
  },
  {
   "cell_type": "code",
   "execution_count": null,
   "metadata": {},
   "outputs": [],
   "source": []
  }
 ],
 "metadata": {
  "kernelspec": {
   "display_name": "Python 3",
   "language": "python",
   "name": "python3"
  },
  "language_info": {
   "codemirror_mode": {
    "name": "ipython",
    "version": 3
   },
   "file_extension": ".py",
   "mimetype": "text/x-python",
   "name": "python",
   "nbconvert_exporter": "python",
   "pygments_lexer": "ipython3",
   "version": "3.7.0"
  }
 },
 "nbformat": 4,
 "nbformat_minor": 2
}
